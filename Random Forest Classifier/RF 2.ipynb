{
 "cells": [
  {
   "cell_type": "markdown",
   "metadata": {},
   "source": [
    "**DENGAN K-FOLD CROSSVAL SERTA RUNNING 1 BY 1 CV**"
   ]
  },
  {
   "cell_type": "code",
   "execution_count": 1,
   "metadata": {},
   "outputs": [],
   "source": [
    "# Import Library\n",
    "from sklearn.model_selection import GridSearchCV\n",
    "from sklearn.ensemble import RandomForestClassifier\n",
    "from sklearn.model_selection import train_test_split\n",
    "from sklearn.model_selection import KFold\n",
    "from sklearn.metrics import classification_report, accuracy_score, confusion_matrix\n",
    "from sklearn.tree import export_graphviz\n",
    "import pandas as pd\n",
    "import numpy as np\n",
    "import seaborn as sns\n",
    "import matplotlib.pyplot as plt\n",
    "import time\n",
    "import graphviz"
   ]
  },
  {
   "cell_type": "code",
   "execution_count": 2,
   "metadata": {},
   "outputs": [
    {
     "data": {
      "text/html": [
       "<div>\n",
       "<style scoped>\n",
       "    .dataframe tbody tr th:only-of-type {\n",
       "        vertical-align: middle;\n",
       "    }\n",
       "\n",
       "    .dataframe tbody tr th {\n",
       "        vertical-align: top;\n",
       "    }\n",
       "\n",
       "    .dataframe thead th {\n",
       "        text-align: right;\n",
       "    }\n",
       "</style>\n",
       "<table border=\"1\" class=\"dataframe\">\n",
       "  <thead>\n",
       "    <tr style=\"text-align: right;\">\n",
       "      <th></th>\n",
       "      <th>X1</th>\n",
       "      <th>X3</th>\n",
       "      <th>X4</th>\n",
       "      <th>X5</th>\n",
       "      <th>X6</th>\n",
       "      <th>Y1</th>\n",
       "      <th>X2</th>\n",
       "    </tr>\n",
       "  </thead>\n",
       "  <tbody>\n",
       "    <tr>\n",
       "      <th>0</th>\n",
       "      <td>3.0</td>\n",
       "      <td>0</td>\n",
       "      <td>0</td>\n",
       "      <td>0</td>\n",
       "      <td>0</td>\n",
       "      <td>1</td>\n",
       "      <td>1</td>\n",
       "    </tr>\n",
       "    <tr>\n",
       "      <th>1</th>\n",
       "      <td>2.0</td>\n",
       "      <td>0</td>\n",
       "      <td>0</td>\n",
       "      <td>0</td>\n",
       "      <td>0</td>\n",
       "      <td>0</td>\n",
       "      <td>3</td>\n",
       "    </tr>\n",
       "    <tr>\n",
       "      <th>2</th>\n",
       "      <td>2.0</td>\n",
       "      <td>0</td>\n",
       "      <td>0</td>\n",
       "      <td>0</td>\n",
       "      <td>0</td>\n",
       "      <td>1</td>\n",
       "      <td>2</td>\n",
       "    </tr>\n",
       "    <tr>\n",
       "      <th>3</th>\n",
       "      <td>2.0</td>\n",
       "      <td>0</td>\n",
       "      <td>0</td>\n",
       "      <td>0</td>\n",
       "      <td>0</td>\n",
       "      <td>0</td>\n",
       "      <td>3</td>\n",
       "    </tr>\n",
       "    <tr>\n",
       "      <th>4</th>\n",
       "      <td>1.0</td>\n",
       "      <td>0</td>\n",
       "      <td>0</td>\n",
       "      <td>0</td>\n",
       "      <td>0</td>\n",
       "      <td>0</td>\n",
       "      <td>1</td>\n",
       "    </tr>\n",
       "  </tbody>\n",
       "</table>\n",
       "</div>"
      ],
      "text/plain": [
       "    X1  X3  X4  X5  X6  Y1  X2\n",
       "0  3.0   0   0   0   0   1   1\n",
       "1  2.0   0   0   0   0   0   3\n",
       "2  2.0   0   0   0   0   1   2\n",
       "3  2.0   0   0   0   0   0   3\n",
       "4  1.0   0   0   0   0   0   1"
      ]
     },
     "execution_count": 2,
     "metadata": {},
     "output_type": "execute_result"
    }
   ],
   "source": [
    "# Import Dataset \n",
    "df = pd.read_csv(r'D:\\Skripsi\\Sc\\2. Reza\\final_data.csv')\n",
    "df.head()      # Menampilkan data teratas"
   ]
  },
  {
   "cell_type": "code",
   "execution_count": 3,
   "metadata": {},
   "outputs": [],
   "source": [
    "# Split Into X and y\n",
    "X = df.drop('Y1', axis=1)\n",
    "y = df['Y1']"
   ]
  },
  {
   "cell_type": "code",
   "execution_count": 4,
   "metadata": {},
   "outputs": [
    {
     "name": "stdout",
     "output_type": "stream",
     "text": [
      "Fold: 1 | Accuracy: 1.0 | Train Time: 0.43355703353881836 | Test Time: 0.020224571228027344\n",
      "Fold: 2 | Accuracy: 1.0 | Train Time: 0.3685896396636963 | Test Time: 0.019331932067871094\n",
      "Fold: 3 | Accuracy: 0.9444444444444444 | Train Time: 0.3597133159637451 | Test Time: 0.02013993263244629\n",
      "Fold: 4 | Accuracy: 1.0 | Train Time: 0.3376643657684326 | Test Time: 0.02162003517150879\n",
      "Fold: 5 | Accuracy: 0.9444444444444444 | Train Time: 0.340116024017334 | Test Time: 0.019723176956176758\n",
      "Fold: 6 | Accuracy: 0.9444444444444444 | Train Time: 0.35025644302368164 | Test Time: 0.022301197052001953\n",
      "Fold: 7 | Accuracy: 0.9166666666666666 | Train Time: 0.36229395866394043 | Test Time: 0.02014613151550293\n",
      "Fold: 8 | Accuracy: 1.0 | Train Time: 0.33600878715515137 | Test Time: 0.01993703842163086\n",
      "Fold: 9 | Accuracy: 1.0 | Train Time: 0.4110243320465088 | Test Time: 0.020308256149291992\n",
      "Fold: 10 | Accuracy: 1.0 | Train Time: 0.3918008804321289 | Test Time: 0.024433612823486328\n"
     ]
    }
   ],
   "source": [
    "# K-Fold Cross Validation\n",
    "kfold = KFold(n_splits=10, shuffle=True)\n",
    "\n",
    "fold_test = []\n",
    "fold_pred = []\n",
    "\n",
    "for fold, (train_idx, test_idx) in enumerate(kfold.split(X, y)):\n",
    "    x_train, x_test, y_train, y_test = X.iloc[train_idx], X.iloc[test_idx], y.iloc[train_idx], y.iloc[test_idx]\n",
    "    \n",
    "    classifier = RandomForestClassifier(criterion='gini',\n",
    "                                        n_estimators=100,\n",
    "                                        max_features=5,\n",
    "                                        min_samples_leaf=10, \n",
    "                                        n_jobs=1, \n",
    "                                        random_state=1, \n",
    "                                        oob_score=True)\n",
    "    \n",
    "    train_init = time.time()            # Time of Running Training data at K-Fold\n",
    "    classifier.fit(x_train, y_train)\n",
    "    train_time = time.time() - train_init\n",
    "\n",
    "    test_init = time.time()             # Time of Running Testing data at K-Fold\n",
    "    prediction = classifier.predict(x_test)\n",
    "    test_time = time.time() - test_init\n",
    "    \n",
    "    accuracy = accuracy_score(y_test, prediction)\n",
    "    print(f'Fold: {fold+1} | Accuracy: {accuracy} | Train Time: {train_time} | Test Time: {test_time}')\n",
    "    \n",
    "    # Append test data and predictions to the lists\n",
    "    fold_test.extend(y_test)\n",
    "    fold_pred.extend(prediction)\n",
    "\n",
    "# Convert the lists to Pandas Series\n",
    "all_fold_test = pd.Series(fold_test, name='Actual')\n",
    "all_fold_pred = pd.Series(fold_pred, name='Predicted')"
   ]
  },
  {
   "cell_type": "code",
   "execution_count": 5,
   "metadata": {},
   "outputs": [
    {
     "data": {
      "image/png": "[encoded data removed]",
      "text/plain": [
       "<Figure size 640x480 with 2 Axes>"
      ]
     },
     "metadata": {},
     "output_type": "display_data"
    },
    {
     "name": "stdout",
     "output_type": "stream",
     "text": [
      "Overall Classification Report:\n",
      "              precision    recall  f1-score   support\n",
      "\n",
      "           0       0.97      1.00      0.99       348\n",
      "           1       0.00      0.00      0.00         9\n",
      "\n",
      "    accuracy                           0.97       357\n",
      "   macro avg       0.49      0.50      0.49       357\n",
      "weighted avg       0.95      0.97      0.96       357\n",
      "\n",
      "Overall Accuracy: 0.97\n"
     ]
    }
   ],
   "source": [
    "# Generate overall confusion matrix\n",
    "overall_cm = confusion_matrix(all_fold_test, all_fold_pred)\n",
    "df_overall_cm = pd.DataFrame(overall_cm, index=df['Y1'].unique(), columns=df['Y1'].unique())\n",
    "sns.heatmap(df_overall_cm, annot=True, fmt=\".0f\")\n",
    "plt.title(\"Overall Confusion Matrix\")\n",
    "plt.xlabel(\"Predicted Label\")\n",
    "plt.ylabel(\"True Label\")\n",
    "plt.show()\n",
    "\n",
    "# Print overall classification report\n",
    "print(\"Overall Classification Report:\")\n",
    "print(classification_report(all_fold_test, all_fold_pred, zero_division=0))\n",
    "\n",
    "# Print overall accuracy\n",
    "overall_accuracy = accuracy_score(all_fold_test, all_fold_pred)\n",
    "print(f\"Overall Accuracy: {overall_accuracy:.2f}\")"
   ]
  }
 ],
 "metadata": {
  "kernelspec": {
   "display_name": "Python 3",
   "language": "python",
   "name": "python3"
  },
  "language_info": {
   "codemirror_mode": {
    "name": "ipython",
    "version": 3
   },
   "file_extension": ".py",
   "mimetype": "text/x-python",
   "name": "python",
   "nbconvert_exporter": "python",
   "pygments_lexer": "ipython3",
   "version": "3.11.4"
  }
 },
 "nbformat": 4,
 "nbformat_minor": 2
}
