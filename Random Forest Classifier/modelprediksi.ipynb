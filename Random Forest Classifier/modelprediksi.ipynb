{
 "cells": [
  {
   "cell_type": "markdown",
   "metadata": {},
   "source": [
    "**PREDICTION SYSTEM**"
   ]
  },
  {
   "cell_type": "code",
   "execution_count": null,
   "metadata": {},
   "outputs": [],
   "source": [
    "df = df[['X1','X2','X3','X4','X5','X6','Y1']]\n",
    "df.head()"
   ]
  },
  {
   "cell_type": "code",
   "execution_count": null,
   "metadata": {},
   "outputs": [],
   "source": [
    "# membuat model\n",
    "import numpy as np\n",
    "from sklearn.preprocessing import StandardScaler\n",
    "\n",
    "# Your input data as a list\n",
    "input_data_as_list = [1.0, 1, 1, 1, 1, 1] # replace with your data\n",
    "\n",
    "# Convert the list to a numpy array\n",
    "input_data__numpy_array = np.array(input_data_as_list)\n",
    "\n",
    "# Reshape the numpy array\n",
    "input_data_reshape = input_data__numpy_array.reshape(1, -1)\n",
    "\n",
    "# Data cleaning and transformation\n",
    "scaler = StandardScaler()\n",
    "\n",
    "# Fit the scaler and transform the input data\n",
    "scaled_input_data = scaler.fit_transform(input_data_reshape)\n",
    "\n",
    "# Reshape the scaled input data\n",
    "scaled_input_data_reshape = scaled_input_data.reshape(scaled_input_data.shape[0], -1)\n",
    "\n",
    "# Make predictions\n",
    "predicted_class = classifier.predict(scaled_input_data_reshape)\n",
    "\n",
    "# Define the class label to class name mapping\n",
    "class_label_mapping = {1: \"Penyakit Diabetes\", 0: \"Tidak Ada\"}\n",
    "\n",
    "# Get the predicted class label\n",
    "predicted_class_label = predicted_class[0]\n",
    "\n",
    "# Use the mapping to get the predicted class name\n",
    "predicted_class_name = class_label_mapping[predicted_class_label]\n",
    "\n",
    "print(scaled_input_data)\n",
    "print(f'Predicted class: {predicted_class_name}')"
   ]
  }
 ],
 "metadata": {
  "language_info": {
   "name": "python"
  }
 },
 "nbformat": 4,
 "nbformat_minor": 2
}
